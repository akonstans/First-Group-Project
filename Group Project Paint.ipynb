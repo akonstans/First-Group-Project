{
 "cells": [
  {
   "cell_type": "code",
   "execution_count": 109,
   "id": "8136fc48",
   "metadata": {},
   "outputs": [
    {
     "name": "stdout",
     "output_type": "stream",
     "text": [
      "length20\n",
      "width30\n",
      "height12\n",
      "paint grade: standard\n",
      "coats: 1\n"
     ]
    }
   ],
   "source": [
    "import math\n",
    "stdprice = 42.99\n",
    "'''standard paint price'''\n",
    "premprice = 55.99\n",
    "'''premuim paint price'''\n",
    "proprice = 74.99\n",
    "'''professional paint price'''\n",
    "\n",
    "stdft = 400\n",
    "'''sqft that one can of standard paint will cover'''\n",
    "premft = 500\n",
    "'''sqft that one can of premium paint will cover'''\n",
    "proft = 600\n",
    "'''sqft that one can of professional paint will cover'''\n",
    "\n",
    "l = input('length')\n",
    "w = input('width')\n",
    "h = input('height')\n",
    "pg = input('paint grade: ')\n",
    "coats = input('coats: ')\n",
    "l = float(l)\n",
    "w = float(w)\n",
    "h = float(h)\n",
    "coats = int(coats)\n",
    "door = 9\n"
   ]
  },
  {
   "cell_type": "code",
   "execution_count": 110,
   "id": "62a6501a",
   "metadata": {},
   "outputs": [],
   "source": [
    "def area(length, width, height, door):\n",
    "    final_area = length * height * 2 + width * height * 2 - door\n",
    "    return final_area"
   ]
  },
  {
   "cell_type": "code",
   "execution_count": 111,
   "id": "36eb8312",
   "metadata": {},
   "outputs": [],
   "source": [
    "def cost(area, sqft, price, coats):\n",
    "    final_cost = math.ceil(area(l, w, h, door) / sqft) * price * coats\n",
    "    return final_cost"
   ]
  },
  {
   "cell_type": "code",
   "execution_count": 113,
   "id": "f91dad2c",
   "metadata": {},
   "outputs": [
    {
     "name": "stdout",
     "output_type": "stream",
     "text": [
      "1191.0 128.97\n"
     ]
    }
   ],
   "source": [
    "if pg == 'standard':\n",
    "    print(area(l, w, h, door), cost(area, stdft, stdprice, coats))\n",
    "elif pg == 'premium':\n",
    "    print(area(l, w, h, door), cost(area, premft, premprice, coats))\n",
    "elif pg == 'professional':\n",
    "    print(area(l, w, h, door), cost(area, proft, proprice, coats))\n",
    "else:\n",
    "    print('You have entered an incorrect grade of paint!')\n",
    "        "
   ]
  }
 ],
 "metadata": {
  "kernelspec": {
   "display_name": "Python 3 (ipykernel)",
   "language": "python",
   "name": "python3"
  },
  "language_info": {
   "codemirror_mode": {
    "name": "ipython",
    "version": 3
   },
   "file_extension": ".py",
   "mimetype": "text/x-python",
   "name": "python",
   "nbconvert_exporter": "python",
   "pygments_lexer": "ipython3",
   "version": "3.9.13"
  }
 },
 "nbformat": 4,
 "nbformat_minor": 5
}
